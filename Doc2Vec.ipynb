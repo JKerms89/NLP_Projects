{
  "cells": [
    {
      "cell_type": "markdown",
      "metadata": {
        "id": "view-in-github",
        "colab_type": "text"
      },
      "source": [
        "<a href=\"https://colab.research.google.com/github/JKerms89/NLP_Projects/blob/main/Doc2Vec.ipynb\" target=\"_parent\"><img src=\"https://colab.research.google.com/assets/colab-badge.svg\" alt=\"Open In Colab\"/></a>"
      ]
    },
    {
      "cell_type": "code",
      "execution_count": null,
      "metadata": {
        "id": "r1E_dQvm7EM-",
        "colab": {
          "base_uri": "https://localhost:8080/"
        },
        "outputId": "fdfb5707-36d3-4835-9a4f-c89b27beb44f"
      },
      "outputs": [
        {
          "output_type": "stream",
          "name": "stderr",
          "text": [
            "[nltk_data] Downloading package punkt to /root/nltk_data...\n",
            "[nltk_data]   Package punkt is already up-to-date!\n"
          ]
        },
        {
          "output_type": "execute_result",
          "data": {
            "text/plain": [
              "True"
            ]
          },
          "metadata": {},
          "execution_count": 1
        }
      ],
      "source": [
        "# Useful link: https://medium.com/@mishra.thedeepak/doc2vec-simple-implementation-example-df2afbbfbad5 \n",
        "# https://medium.com/red-buffer/doc2vec-computing-similarity-between-the-documents-47daf6c828cd \n",
        "\n",
        "from gensim.models.doc2vec import Doc2Vec, TaggedDocument\n",
        "from nltk.tokenize import word_tokenize\n",
        "import os\n",
        "from gensim.models.doc2vec import Doc2Vec\n",
        "import nltk\n",
        "import numpy as np\n",
        "nltk.download('punkt')"
      ]
    },
    {
      "cell_type": "code",
      "execution_count": null,
      "metadata": {
        "colab": {
          "base_uri": "https://localhost:8080/"
        },
        "id": "sS8IkiFetEy8",
        "outputId": "2a73ac18-00d6-48ab-b681-50d0683ccd1f"
      },
      "outputs": [
        {
          "output_type": "stream",
          "name": "stdout",
          "text": [
            "Mounted at /content/drive\n"
          ]
        }
      ],
      "source": [
        "# Mount to google drive\n",
        "\n",
        "from google.colab import drive\n",
        "drive.mount('/content/drive', force_remount=True)"
      ]
    },
    {
      "cell_type": "code",
      "execution_count": null,
      "metadata": {
        "colab": {
          "base_uri": "https://localhost:8080/"
        },
        "id": "YmmhT16fuBJl",
        "outputId": "29e533f1-9725-48ba-f432-db4bbad6e7ef"
      },
      "outputs": [
        {
          "output_type": "stream",
          "name": "stdout",
          "text": [
            "/content/drive/My Drive/str_nat_project/Datasets/corpus/corpus_IRL2009\n"
          ]
        }
      ],
      "source": [
        "cd /content/drive/My Drive/str_nat_project/Datasets/corpus/corpus_IRL2009/"
      ]
    },
    {
      "cell_type": "code",
      "execution_count": null,
      "metadata": {
        "id": "DimQHCT1BDu3"
      },
      "outputs": [],
      "source": [
        "doc_1 = open('Yes_gesamt_2009.txt', \"r\").read().lower()"
      ]
    },
    {
      "cell_type": "code",
      "execution_count": null,
      "metadata": {
        "id": "v_iZmL8RDAvW"
      },
      "outputs": [],
      "source": [
        "doc_2 = open('No_gesamt_2009.txt', \"r\").read().lower()"
      ]
    },
    {
      "cell_type": "code",
      "execution_count": null,
      "metadata": {
        "id": "pNVV6N1vBM1s"
      },
      "outputs": [],
      "source": [
        "data1 = [doc_1, doc_2]"
      ]
    },
    {
      "cell_type": "code",
      "execution_count": null,
      "metadata": {
        "id": "znFB3AczDiw1"
      },
      "outputs": [],
      "source": [
        "#Let’s prepare data for training our doc2vec model\n",
        "tagged_data = [TaggedDocument(words=word_tokenize(_d.lower()), tags=[str(i)]) for i, _d in enumerate(data1)]"
      ]
    },
    {
      "cell_type": "code",
      "execution_count": null,
      "metadata": {
        "id": "Z40bGERtD0mv",
        "colab": {
          "base_uri": "https://localhost:8080/"
        },
        "outputId": "453780a8-4a9f-4f19-c652-8618c24f6b13"
      },
      "outputs": [
        {
          "metadata": {
            "tags": null
          },
          "name": "stdout",
          "output_type": "stream",
          "text": [
            "iteration 0\n"
          ]
        },
        {
          "metadata": {
            "tags": null
          },
          "name": "stderr",
          "output_type": "stream",
          "text": [
            "WARNING:gensim.models.base_any2vec:Effective 'alpha' higher than previous training cycles\n"
          ]
        },
        {
          "output_type": "stream",
          "name": "stdout",
          "text": [
            "iteration 1\n",
            "iteration 2\n",
            "iteration 3\n",
            "iteration 4\n",
            "iteration 5\n",
            "iteration 6\n",
            "iteration 7\n",
            "iteration 8\n",
            "iteration 9\n",
            "iteration 10\n",
            "iteration 11\n",
            "iteration 12\n",
            "iteration 13\n",
            "iteration 14\n",
            "iteration 15\n",
            "iteration 16\n",
            "iteration 17\n",
            "iteration 18\n",
            "iteration 19\n",
            "iteration 20\n",
            "iteration 21\n",
            "iteration 22\n",
            "iteration 23\n",
            "iteration 24\n",
            "iteration 25\n",
            "iteration 26\n",
            "iteration 27\n",
            "iteration 28\n",
            "iteration 29\n",
            "iteration 30\n",
            "iteration 31\n",
            "iteration 32\n",
            "iteration 33\n",
            "iteration 34\n",
            "iteration 35\n",
            "iteration 36\n",
            "iteration 37\n",
            "iteration 38\n",
            "iteration 39\n",
            "iteration 40\n",
            "iteration 41\n",
            "iteration 42\n",
            "iteration 43\n",
            "iteration 44\n",
            "iteration 45\n",
            "iteration 46\n",
            "iteration 47\n",
            "iteration 48\n",
            "iteration 49\n",
            "iteration 50\n",
            "iteration 51\n",
            "iteration 52\n",
            "iteration 53\n",
            "iteration 54\n",
            "iteration 55\n",
            "iteration 56\n",
            "iteration 57\n",
            "iteration 58\n",
            "iteration 59\n",
            "iteration 60\n",
            "iteration 61\n",
            "iteration 62\n",
            "iteration 63\n",
            "iteration 64\n",
            "iteration 65\n",
            "iteration 66\n",
            "iteration 67\n",
            "iteration 68\n",
            "iteration 69\n",
            "iteration 70\n",
            "iteration 71\n",
            "iteration 72\n",
            "iteration 73\n",
            "iteration 74\n",
            "iteration 75\n",
            "iteration 76\n",
            "iteration 77\n",
            "iteration 78\n",
            "iteration 79\n",
            "iteration 80\n",
            "iteration 81\n",
            "iteration 82\n",
            "iteration 83\n",
            "iteration 84\n",
            "iteration 85\n",
            "iteration 86\n",
            "iteration 87\n",
            "iteration 88\n",
            "iteration 89\n",
            "iteration 90\n",
            "iteration 91\n",
            "iteration 92\n",
            "iteration 93\n",
            "iteration 94\n",
            "iteration 95\n",
            "iteration 96\n",
            "iteration 97\n",
            "iteration 98\n",
            "iteration 99\n",
            "Model Saved\n"
          ]
        }
      ],
      "source": [
        "# Training the model with the 'No' and 'Yes' treaty campaigns text\n",
        "\n",
        "max_epochs = 100\n",
        "alpha = 0.025\n",
        "vector_size = 20\n",
        "\n",
        "model = Doc2Vec(vector_size=vector_size,\n",
        "                alpha=alpha, \n",
        "                min_alpha=0.00025,\n",
        "                min_count=1,\n",
        "                dm =1)\n",
        "\n",
        "model.build_vocab(tagged_data)\n",
        "\n",
        "for epoch in range(max_epochs):\n",
        "    print('iteration {0}'.format(epoch))\n",
        "    model.train(tagged_data,\n",
        "                total_examples=model.corpus_count,\n",
        "                epochs=max_epochs)\n",
        "    # decrease the learning rate\n",
        "    model.alpha -= 0.0002\n",
        "    # fix the learning rate, no decay\n",
        "    model.min_alpha = model.alpha\n",
        "\n",
        "model.save(\"d2v.model\")\n",
        "print(\"Model Saved\")"
      ]
    },
    {
      "cell_type": "code",
      "execution_count": null,
      "metadata": {
        "id": "e44lICJ3D8cr"
      },
      "outputs": [],
      "source": [
        "#Note: dm defines the training algorithm. If dm=1 means ‘distributed memory’ (PV-DM) and dm =0 means ‘distributed bag of words’ \n",
        "#PV-DBOW). Distributed Memory model preserves the word order in a document whereas Distributed Bag of words just uses the bag of \n",
        "#words approach, which doesn’t preserve any word order."
      ]
    },
    {
      "cell_type": "code",
      "execution_count": null,
      "metadata": {
        "id": "D51G_H9AEBDq"
      },
      "outputs": [],
      "source": [
        "#So we have saved the model and it’s ready for implementation. Lets play with it.\n",
        "# First I need to import the treaty text corpus."
      ]
    },
    {
      "cell_type": "code",
      "execution_count": null,
      "metadata": {
        "id": "ruy9ljA8EHvP"
      },
      "outputs": [],
      "source": [
        "doc_3 = open('conTreaties.txt', \"r\").read().lower()"
      ]
    },
    {
      "cell_type": "code",
      "execution_count": null,
      "metadata": {
        "id": "QwXuNxjWEMSG",
        "colab": {
          "base_uri": "https://localhost:8080/"
        },
        "outputId": "e80a239c-3e48-4e63-fb30-085d1a110278"
      },
      "outputs": [
        {
          "output_type": "stream",
          "name": "stdout",
          "text": [
            "V1_infer [ 1.6456022  -3.8518262   0.7133199   6.029549   -2.4845188   4.1413503\n",
            " -6.566607   -1.3020535   0.20724781  1.0436133   1.6474402  -4.5879025\n",
            " -6.1034517   2.2245376  -1.2309557  -4.7476244  -4.1123776  -1.4387907\n",
            " -3.674213    7.9773793 ]\n"
          ]
        }
      ],
      "source": [
        "model= Doc2Vec.load(\"d2v.model\")\n",
        "test_data = word_tokenize(doc_3.lower())\n",
        "v1 = model.infer_vector(test_data)\n",
        "print(\"V1_infer\", v1)\n",
        "v1 = np.array([v1], dtype=np.float64)"
      ]
    },
    {
      "cell_type": "code",
      "execution_count": null,
      "metadata": {
        "id": "CKbQ3YqrEysD",
        "colab": {
          "base_uri": "https://localhost:8080/"
        },
        "outputId": "82bb60c6-6e22-4f16-ab0e-660ab668c20e"
      },
      "outputs": [
        {
          "output_type": "stream",
          "name": "stdout",
          "text": [
            "[('1', 0.6132625341415405), ('0', 0.01182509958744049)]\n"
          ]
        }
      ],
      "source": [
        "# Now we need to see which of the two campaign texts are most similar to the treaty text...\n",
        "\n",
        "similar_doc = model.docvecs.most_similar(v1)\n",
        "print(similar_doc)"
      ]
    },
    {
      "cell_type": "code",
      "execution_count": null,
      "metadata": {
        "id": "_aKDog_3FVpK"
      },
      "outputs": [],
      "source": [
        "# Results: When campaign texts are used for the training data, and I feed treaty text to the model, the 'Yes' campaign text is clearly more similar. I now need to discuss with Wolf \n",
        "# which procedure is more scientifically robust. Do we want all the documents loaded to train\n",
        "# the model or do we want to use the treaty text as the test data?????\n",
        "\n",
        "# RESULTS : [('1', 0.5556328296661377), ('0', -0.02506893500685692)]\n",
        "# The int 1 refers to Tag no.1 which refers to words found in the 'No' campaign doc. The int 0 refers to words found in the 'Yes' campaign. "
      ]
    }
  ],
  "metadata": {
    "colab": {
      "collapsed_sections": [],
      "provenance": [],
      "authorship_tag": "ABX9TyP3hrLIIuZn0U0cjI39GlbX",
      "include_colab_link": true
    },
    "kernelspec": {
      "display_name": "Python 3",
      "name": "python3"
    },
    "language_info": {
      "name": "python"
    }
  },
  "nbformat": 4,
  "nbformat_minor": 0
}